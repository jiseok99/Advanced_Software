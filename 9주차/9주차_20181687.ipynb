{
  "nbformat": 4,
  "nbformat_minor": 0,
  "metadata": {
    "colab": {
      "provenance": []
    },
    "kernelspec": {
      "name": "python3",
      "display_name": "Python 3"
    },
    "language_info": {
      "name": "python"
    }
  },
  "cells": [
    {
      "cell_type": "code",
      "execution_count": null,
      "metadata": {
        "id": "vzOYX2srMHkk",
        "colab": {
          "base_uri": "https://localhost:8080/"
        },
        "outputId": "c0de8df5-405d-4071-a87b-6a788df1d828"
      },
      "outputs": [
        {
          "output_type": "stream",
          "name": "stdout",
          "text": [
            "password : 2517 입니다.\n"
          ]
        }
      ],
      "source": [
        "# Brute-Frorce Algorithm 예시 - 4자리의 암호로 구성된 자물쇠 풀기 (강의 ppt slide 5)\n",
        "import random\n",
        "\n",
        "password = random.randint(0,9999) # [0, 9999] 중 무작위 int형 변수를 password로 정의\n",
        "\n",
        "for i in range(0,10000):\n",
        "  if password == i:\n",
        "    print(f\"password : {i} 입니다.\")"
      ]
    },
    {
      "cell_type": "code",
      "source": [
        "# Greedy Algorithm 예시 - 거스름돈 주기 2번째 case (강의 ppt slide 8)\n",
        "price = 4100\n",
        "money = 5000\n",
        "change = money - price\n",
        "\n",
        "change_coin = [500, 300, 200, 60, 1]\n",
        "\n",
        "num_of_coins = 0\n",
        "hand_money = 0\n",
        "index = 0\n",
        "\n",
        "while(change!=hand_money):\n",
        "  if hand_money + change_coin[index] > change:\n",
        "    index += 1\n",
        "  else:\n",
        "    hand_money += change_coin[index]\n",
        "    num_of_coins += 1\n",
        "\n",
        "print(num_of_coins)\n",
        "  "
      ],
      "metadata": {
        "id": "LakOgsNvMR3L",
        "colab": {
          "base_uri": "https://localhost:8080/"
        },
        "outputId": "d7481367-70f4-48d7-8402-4f4837b66884"
      },
      "execution_count": null,
      "outputs": [
        {
          "output_type": "stream",
          "name": "stdout",
          "text": [
            "43\n"
          ]
        }
      ]
    },
    {
      "cell_type": "code",
      "source": [
        "# Dynamic Programming 예시 - 피보나치 수열 구현(강의 ppt slide 11)\n",
        "fibo_num = 7\n",
        "\n",
        "def fib_overlapping_subproblem(n):\n",
        "    if (n <= 2) :\n",
        "      return 1;\n",
        "    else:\n",
        "      return fib_overlapping_subproblem(n-1) + fib_overlapping_subproblem(n-2);\n",
        "\n",
        "fib_overlapping_subproblem(fibo_num)"
      ],
      "metadata": {
        "id": "7YuJXiq3U1-6",
        "colab": {
          "base_uri": "https://localhost:8080/"
        },
        "outputId": "9e47bf4c-8ea2-4f6f-e635-50f47e3b21ec"
      },
      "execution_count": null,
      "outputs": [
        {
          "output_type": "execute_result",
          "data": {
            "text/plain": [
              "13"
            ]
          },
          "metadata": {},
          "execution_count": 4
        }
      ]
    },
    {
      "cell_type": "markdown",
      "source": [],
      "metadata": {
        "id": "JJPT2j1rWhzp"
      }
    },
    {
      "cell_type": "code",
      "source": [
        "# Dynamic Programming 예시 - 메모이제이션 (강의 ppt slide 13)\n",
        "memo = [1, 1]\n",
        "\n",
        "def fibo_memo(n):\n",
        "  for i in range(2,n):\n",
        "    memo.append(memo[i-1] + memo[i-2])\n",
        "  return memo[n-1]\n",
        "fibo_memo(7)"
      ],
      "metadata": {
        "id": "laSScZieV32R",
        "colab": {
          "base_uri": "https://localhost:8080/"
        },
        "outputId": "b19bf220-eb64-4427-bb80-d9c426f9d51c"
      },
      "execution_count": null,
      "outputs": [
        {
          "output_type": "execute_result",
          "data": {
            "text/plain": [
              "13"
            ]
          },
          "metadata": {},
          "execution_count": 5
        }
      ]
    },
    {
      "cell_type": "code",
      "source": [
        "# 실습 4, Hint : Bit-Masking 예시 (강의 ppt slide 25)\n",
        "switch_states = [True, False, False, True, True, False, False, False, True, True] # 1001100011\n",
        "\n",
        "# 집합을 이진으로 표현함\n",
        "switch_states_with_bit = 0b1001100011 \n",
        "\n",
        "# 인덱스 2를 True로 바꿈\n",
        "n = len(switch_states) - 1 - 2\n",
        "print(bin(switch_states_with_bit | (1 << n))) # 1001100011 | 10000000\n",
        "\n",
        "# 인덱스 3을 False로 바꿈\n",
        "n = len(switch_states) - 1 - 3\n",
        "print(bin(switch_states_with_bit & ~(1 << n)))  # 1001100011 & 0111111\n",
        "\n",
        "# 원소 토글 (켜져있으면 끄고 꺼져있으면 켜기)\n",
        "n = len(switch_states) - 1 - 6\n",
        "print(bin(switch_states_with_bit ^ (1 << n))) # 1001100011 ^ 1000\n"
      ],
      "metadata": {
        "id": "AsHetj9HXcyO"
      },
      "execution_count": null,
      "outputs": []
    },
    {
      "cell_type": "code",
      "source": [
        "# 실습 1 - 팰린드롬(palin)\n",
        "# Brute-Force 알고리즘을 이용하여 word에 문자열을 추가해서 팰린드롬으로 만들 수 있는 가장 짧은 팰린드롬의 길이와 해당 팰린드롬을 반환하는 palindrom_bf 함수를 작성하시오.\n",
        "\n",
        "word = str(input(\"문자열을 입력해주세요 : \"))\n",
        "\n",
        "def palindrom_bf(word):\n",
        "    for i in range(0, len(word)):\n",
        "        if palindrom_check(word[i:]):\n",
        "            return len(word + reverse(word[:i])), word + reverse(word[:i])\n",
        "    return len(word + reverse(word)), word + reverse(word)\n",
        "\n",
        "def palindrom_check(word):\n",
        "    list_word = list(word)\n",
        "    reverse_list = list_word[::-1]\n",
        "    if list_word == reverse_list:\n",
        "      return 1\n",
        "    else:\n",
        "      return 0\n",
        "    \n",
        "def reverse(word):\n",
        "    return \"\".join(reversed(word))\n",
        " \n",
        "\n",
        "palindrom_length, palindrom = palindrom_bf(word)\n",
        "print(f\"팰린드롬에 필요한 문자는 {palindrom}이고 해당 문자의 갯수는 {palindrom_length}개입니다.\")"
      ],
      "metadata": {
        "id": "PxBGoV7vmWNw",
        "colab": {
          "base_uri": "https://localhost:8080/"
        },
        "outputId": "a85df0b9-3743-4421-cd1c-59f92d4fcd73"
      },
      "execution_count": null,
      "outputs": [
        {
          "output_type": "stream",
          "name": "stdout",
          "text": [
            "문자열을 입력해주세요 : banana\n",
            "팰린드롬에 필요한 문자는 bananab이고 해당 문자의 갯수는 7개입니다.\n"
          ]
        }
      ]
    },
    {
      "cell_type": "code",
      "source": [
        "## 실습 2 - 영업사원 A는 판매를 위해 N개 업체와 미팅을 해야하는데 각 회의의 시작 시간과 종료 시간이 입력으로 주어졌을 때, 영업사원 A는 최대한 많은 업체와 미팅을 하려고 한다.\n",
        "# 최대한 많은 업체와 미팅르 하는 경우, 진행될 회의 각각의 시작시간, 종료시간을 출력하시오.\n",
        "# Hint : Greedy 알고리즘을 이용해 문제를 풀어보자\n",
        "\n",
        "N = int(input())\n",
        "times = []\n",
        "for n in range(N) :\n",
        "    times.append(list(map(int, input().split())))\n",
        "\n",
        "times.sort(key=lambda x: (x[1], x[0]))\n",
        "\n",
        "answer = ''\n",
        "end = 0\n",
        "\n",
        "for t in times :\n",
        "   if end <= t[0]:\n",
        "       answer += str(t[0]) + ' ' + str(t[1])+ ' '\n",
        "       end = t[1]\n",
        "\n",
        "print(f\"회의 시작시간 및 종료시간 : \\n{answer}\")"
      ],
      "metadata": {
        "id": "QMPzl6Wsszq_",
        "colab": {
          "base_uri": "https://localhost:8080/"
        },
        "outputId": "1fe44d4f-fdce-4da8-e6f5-2f9faf38715a"
      },
      "execution_count": null,
      "outputs": [
        {
          "output_type": "stream",
          "name": "stdout",
          "text": [
            "4\n",
            "1 2\n",
            "1 3\n",
            "2 4\n",
            "3 4\n",
            "회의 시작시간 및 종료시간 : \n",
            "1 2 2 4 \n"
          ]
        }
      ]
    },
    {
      "cell_type": "code",
      "source": [
        "# 실습 3 - 연속된 수열에서 가장 큰 합 구하기\n",
        "n = int(input(\"N : \"))\n",
        "print(\"수열을 입력해주세요 : \")\n",
        "a = list(map(int, input().split()))\n",
        "\n",
        "sum = [a[0]]\n",
        "for i in range(len(a) - 1):\n",
        "    sum.append(max(sum[i] + a[i+1], a[i+1]))\n",
        "print(f\"정답은 {max(sum)}입니다.\")\n"
      ],
      "metadata": {
        "id": "f0BR555TucVs",
        "colab": {
          "base_uri": "https://localhost:8080/"
        },
        "outputId": "8b13d4bc-7f34-4282-8bea-487f4bd973f5"
      },
      "execution_count": null,
      "outputs": [
        {
          "output_type": "stream",
          "name": "stdout",
          "text": [
            "N : 10\n",
            "수열을 입력해주세요 : \n",
            "10 -7 2 0 -4 6 1 -3 7 -9\n",
            "정답은 12입니다.\n"
          ]
        }
      ]
    },
    {
      "cell_type": "code",
      "source": [
        "# 실습 4 - 1부터 N까지 번호가 매겨져 있는 나라들이 있고, 나라들 사이에는 길이 있다.\n",
        "# 이제 한 대학생이 어느 한 나라에서 출발해 N개의 나라를 모두 거쳐 원래의 나라로 돌아오는 순회 여행을 게획하려한다.\n",
        "# 단, 한 번 갔던 나라로는 다시 갈 수 없다. \n",
        "# 이 때, 각 나라 간의 입국심사에 쓰이는 노력(비용)의 양이 다르다.(대칭적이지 않음)\n",
        "# 가장 적은 노력(비용)을 들여 순회 여행을 하려 할 때, 가장 적은 비용을 출력하시오.\n",
        "import time\n",
        "\n",
        "n = int(input(\"N : \"))\n",
        "print(\"각 나라별 필요 노력을 입력해주세요\")\n",
        "cities = [list(map(int, input().split())) for _ in range(n)]\n",
        "VISITED_ALL = (1 << n) - 1\n",
        "\n",
        "INF = float('inf')\n",
        "cache = [[INF] * (1 << n) for _ in range(n)]\n",
        "\n",
        "idx = 1\n",
        "\n",
        "\n",
        "def find_path(last, visited):\n",
        "    if visited == VISITED_ALL:     \n",
        "        if cities[last][0]:            \n",
        "            return cities[last][0]\n",
        "        else:                      \n",
        "            return INF\n",
        "\n",
        "    if cache[last][visited] is not INF:      \n",
        "        return cache[last][visited]\n",
        "\n",
        "    for i in range(1, n):           \n",
        "        if cities[last][i] and not visited & (1 << i):\n",
        "          cache[last][visited] = min(cache[last][visited], find_path(i, visited | (1 << i)) + cities[last][i])\n",
        "    return cache[last][visited]\n",
        "\n",
        "start = time.time()\n",
        "print(f\"정답은 {find_path(0, 1 << 0)}이고, 걸린시간은 {time.time()-start}입니다.\")"
      ],
      "metadata": {
        "id": "R7vpXBC_znK-",
        "colab": {
          "base_uri": "https://localhost:8080/"
        },
        "outputId": "744f1e43-8608-445f-8af4-9d6d442d2ac5"
      },
      "execution_count": 33,
      "outputs": [
        {
          "output_type": "stream",
          "name": "stdout",
          "text": [
            "N : 5\n",
            "각 나라별 필요 노력을 입력해주세요\n",
            "0 5 2 9 5\n",
            "1 0 1 3 2\n",
            "15 11 0 13 8\n",
            "10 11 6 0 19\n",
            "4 3 4 5 0\n",
            "정답은 26이고, 걸린시간은 0.00012564659118652344입니다.\n"
          ]
        }
      ]
    }
  ]
}